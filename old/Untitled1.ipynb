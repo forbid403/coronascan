{
 "cells": [
  {
   "cell_type": "code",
   "execution_count": 99,
   "metadata": {},
   "outputs": [],
   "source": [
    "import csv\n",
    "import pandas as pd\n",
    "import re\n",
    "#-*- coding: utf-8 -*-"
   ]
  },
  {
   "cell_type": "code",
   "execution_count": 100,
   "metadata": {},
   "outputs": [],
   "source": [
    "dataf['listview'] = False\n",
    "dataf['nation_eng'] = \"\"\n",
    "dataf = dataf.replace('\\n',',', regex=True)"
   ]
  },
  {
   "cell_type": "code",
   "execution_count": 101,
   "metadata": {
    "scrolled": true
   },
   "outputs": [],
   "source": [
    "for index, row in dataf.iterrows():\n",
    "    dataf.at[index, 'detail'] = re.sub('[^가-힣0-9a-zA-Z\\\\s]', ' ', row['detail'])\n",
    "    dataf.at[index, 'tooltip'] = re.sub('[^가-힣0-9a-zA-Z\\\\s]', ' ', row['tooltip'])"
   ]
  },
  {
   "cell_type": "code",
   "execution_count": 102,
   "metadata": {},
   "outputs": [
    {
     "data": {
      "text/html": [
       "<div>\n",
       "<style scoped>\n",
       "    .dataframe tbody tr th:only-of-type {\n",
       "        vertical-align: middle;\n",
       "    }\n",
       "\n",
       "    .dataframe tbody tr th {\n",
       "        vertical-align: top;\n",
       "    }\n",
       "\n",
       "    .dataframe thead th {\n",
       "        text-align: right;\n",
       "    }\n",
       "</style>\n",
       "<table border=\"1\" class=\"dataframe\">\n",
       "  <thead>\n",
       "    <tr style=\"text-align: right;\">\n",
       "      <th></th>\n",
       "      <th>continent</th>\n",
       "      <th>nation_kr</th>\n",
       "      <th>state</th>\n",
       "      <th>detail</th>\n",
       "      <th>tooltip</th>\n",
       "      <th>listview</th>\n",
       "      <th>nation_eng</th>\n",
       "    </tr>\n",
       "  </thead>\n",
       "  <tbody>\n",
       "    <tr>\n",
       "      <th>0</th>\n",
       "      <td>아시아</td>\n",
       "      <td>일본</td>\n",
       "      <td>2</td>\n",
       "      <td>외교부는 3월 9일 월 부로 일본 전 지역 이미 여행경보 3단계 적색경보  철수권고...</td>\n",
       "      <td>일본 전 지역 후쿠시마 원전 주변지역 제외 에 여행경보 2단계 황색경보  여행자제 ...</td>\n",
       "      <td>False</td>\n",
       "      <td></td>\n",
       "    </tr>\n",
       "    <tr>\n",
       "      <th>1</th>\n",
       "      <td>유럽</td>\n",
       "      <td>이탈리아</td>\n",
       "      <td>2</td>\n",
       "      <td>외교부는 2월 28일 금 부로 이탈리아 북부지역 롬바르디아주  베네토주  에밀리아...</td>\n",
       "      <td>이탈리아 북부지역 3개 주 롬바르디아주  베네토주  에밀리아 로마냐주 에 황색경보 발령</td>\n",
       "      <td>False</td>\n",
       "      <td></td>\n",
       "    </tr>\n",
       "    <tr>\n",
       "      <th>2</th>\n",
       "      <td>아시아</td>\n",
       "      <td>중국</td>\n",
       "      <td>2</td>\n",
       "      <td>외교부는 2020년 1월 28일부로 전 중국지역 홍콩 마카오 포함  대만 제외 에 ...</td>\n",
       "      <td>전 중국지역에 여행경보 2단계 여행자제  발령</td>\n",
       "      <td>False</td>\n",
       "      <td></td>\n",
       "    </tr>\n",
       "    <tr>\n",
       "      <th>3</th>\n",
       "      <td>아시아</td>\n",
       "      <td>홍콩</td>\n",
       "      <td>2</td>\n",
       "      <td>외교부는 2020년 1월 28일부로 전 중국지역 홍콩 마카오 포함  대만 제외 에 ...</td>\n",
       "      <td>전 중국지역에 여행경보 2단계 여행자제  발령</td>\n",
       "      <td>False</td>\n",
       "      <td></td>\n",
       "    </tr>\n",
       "    <tr>\n",
       "      <th>4</th>\n",
       "      <td>아시아</td>\n",
       "      <td>마카오</td>\n",
       "      <td>2</td>\n",
       "      <td>외교부는 2020년 1월 28일부로 전 중국지역 홍콩 마카오 포함  대만 제외 에 ...</td>\n",
       "      <td>전 중국지역에 여행경보 2단계 여행자제  발령</td>\n",
       "      <td>False</td>\n",
       "      <td></td>\n",
       "    </tr>\n",
       "    <tr>\n",
       "      <th>5</th>\n",
       "      <td>아시아</td>\n",
       "      <td>후베이</td>\n",
       "      <td>3</td>\n",
       "      <td>외교부는 2020년 1월 25일부로 중국 우한시를 포함한 후베이성 전역의 여행경보를...</td>\n",
       "      <td>중국 후베이성 우한시 포함  전역 여행경보 3단계 상향</td>\n",
       "      <td>False</td>\n",
       "      <td></td>\n",
       "    </tr>\n",
       "  </tbody>\n",
       "</table>\n",
       "</div>"
      ],
      "text/plain": [
       "  continent nation_kr  state  \\\n",
       "0       아시아        일본      2   \n",
       "1        유럽      이탈리아      2   \n",
       "2       아시아        중국      2   \n",
       "3       아시아        홍콩      2   \n",
       "4       아시아       마카오      2   \n",
       "5       아시아       후베이      3   \n",
       "\n",
       "                                              detail  \\\n",
       "0  외교부는 3월 9일 월 부로 일본 전 지역 이미 여행경보 3단계 적색경보  철수권고...   \n",
       "1   외교부는 2월 28일 금 부로 이탈리아 북부지역 롬바르디아주  베네토주  에밀리아...   \n",
       "2  외교부는 2020년 1월 28일부로 전 중국지역 홍콩 마카오 포함  대만 제외 에 ...   \n",
       "3  외교부는 2020년 1월 28일부로 전 중국지역 홍콩 마카오 포함  대만 제외 에 ...   \n",
       "4  외교부는 2020년 1월 28일부로 전 중국지역 홍콩 마카오 포함  대만 제외 에 ...   \n",
       "5  외교부는 2020년 1월 25일부로 중국 우한시를 포함한 후베이성 전역의 여행경보를...   \n",
       "\n",
       "                                             tooltip  listview nation_eng  \n",
       "0  일본 전 지역 후쿠시마 원전 주변지역 제외 에 여행경보 2단계 황색경보  여행자제 ...     False             \n",
       "1   이탈리아 북부지역 3개 주 롬바르디아주  베네토주  에밀리아 로마냐주 에 황색경보 발령     False             \n",
       "2                         전 중국지역에 여행경보 2단계 여행자제  발령      False             \n",
       "3                         전 중국지역에 여행경보 2단계 여행자제  발령      False             \n",
       "4                         전 중국지역에 여행경보 2단계 여행자제  발령      False             \n",
       "5                 중국 후베이성 우한시 포함  전역 여행경보 3단계 상향         False             "
      ]
     },
     "execution_count": 102,
     "metadata": {},
     "output_type": "execute_result"
    }
   ],
   "source": [
    "dataf = dataf.fillna((\"아시아\"))\n",
    "dataf"
   ]
  },
  {
   "cell_type": "code",
   "execution_count": 103,
   "metadata": {},
   "outputs": [],
   "source": [
    "dataf.values.flatten().tolist()\n",
    "dataf.to_csv(\"warnings.csv\")"
   ]
  },
  {
   "cell_type": "code",
   "execution_count": null,
   "metadata": {},
   "outputs": [],
   "source": []
  }
 ],
 "metadata": {
  "kernelspec": {
   "display_name": "Python 3",
   "language": "python",
   "name": "python3"
  },
  "language_info": {
   "codemirror_mode": {
    "name": "ipython",
    "version": 3
   },
   "file_extension": ".py",
   "mimetype": "text/x-python",
   "name": "python",
   "nbconvert_exporter": "python",
   "pygments_lexer": "ipython3",
   "version": "3.6.8"
  }
 },
 "nbformat": 4,
 "nbformat_minor": 2
}
