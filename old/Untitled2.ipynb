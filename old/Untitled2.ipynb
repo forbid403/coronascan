{
 "cells": [
  {
   "cell_type": "code",
   "execution_count": 450,
   "metadata": {},
   "outputs": [],
   "source": [
    "import pandas as pd\n",
    "import json\n",
    "import urllib.request, json\n",
    "import pymongo\n",
    "from pandas.io.json import json_normalize\n",
    "import tabula"
   ]
  },
  {
   "cell_type": "code",
   "execution_count": 451,
   "metadata": {},
   "outputs": [
    {
     "name": "stderr",
     "output_type": "stream",
     "text": [
      "Got stderr: 3월 13, 2020 8:24:51 오후 org.apache.pdfbox.pdmodel.font.PDType0Font toUnicode\n",
      "WARNING: No Unicode mapping for CID+4 (4) in font BXOJHQ+font00000000241b76e4\n",
      "\n"
     ]
    }
   ],
   "source": [
    "areas = [(233.76, 95.89, 806.34, 543.79), (66.29, )]\n",
    "page = ''\n",
    "\n",
    "#pdf to csv\n",
    "tabula.convert_into(\"200312.pdf\", \"output.csv\", output_format=\"csv\", \n",
    "                    area=(233.76, 95.89, 806.34, 543.79), pages='1', guess = False)\n",
    "#read csv\n",
    "dataf = pd.read_csv(\"./output.csv\", encoding='utf-8')\n",
    "\n",
    "#make new dataframe\n",
    "df2 = pd.DataFrame(columns=['nation_kr', 'detail'])"
   ]
  },
  {
   "cell_type": "code",
   "execution_count": 452,
   "metadata": {},
   "outputs": [],
   "source": [
    "detail_dataf = dataf['조 치 사 항'].dropna(axis=0)\n",
    "detail_dataf = detail_dataf.reset_index(drop=True)\n",
    "\n",
    "country_dataf = dataf['구  분'].dropna(axis=0)\n",
    "country_dataf = country_dataf.reset_index(drop=True)"
   ]
  },
  {
   "cell_type": "code",
   "execution_count": 453,
   "metadata": {},
   "outputs": [],
   "source": [
    "cur = 0\n",
    "#nation_kr\n",
    "for index, value in enumerate(country_dataf):\n",
    "    df2.at[cur, 'nation_kr'] = value\n",
    "    cur+=1\n",
    "\n",
    "#마이크로네시아, 사모아\n",
    "drop_nation = [3, 10]\n",
    "df2 = df2.drop(drop_nation)\n",
    "df2['nation_kr'][2] = \"마이크로네시아\"\n",
    "df2['nation_kr'][9] = \"사모아(미국령)\"\n",
    "\n",
    "df2 = df2.reset_index(drop=True)"
   ]
  },
  {
   "cell_type": "code",
   "execution_count": 454,
   "metadata": {},
   "outputs": [
    {
     "name": "stdout",
     "output_type": "stream",
     "text": [
      "▸입국 전 21일 이내 한국, 중국, 홍콩, 마카오, 이탈리아를 방문 후 입국한 외국인대상 입국금지(3.3.)\n"
     ]
    }
   ],
   "source": [
    "#details\n",
    "cur = 0\n",
    "save_str = detail_dataf[0] + detail_dataf[1]\n",
    "print(save_str)\n",
    "\n",
    "for index, value in enumerate(detail_dataf) :\n",
    "    if index <= 1:\n",
    "        continue\n",
    "    if '▸' in value :\n",
    "        df2.at[cur, 'detail'] = save_str\n",
    "        save_str = value\n",
    "        cur+=1\n",
    "    else:\n",
    "        save_str += value\n",
    "\n",
    "df2.at[cur, 'detail'] = save_str"
   ]
  },
  {
   "cell_type": "code",
   "execution_count": 456,
   "metadata": {
    "scrolled": false
   },
   "outputs": [
    {
     "data": {
      "text/html": [
       "<div>\n",
       "<style scoped>\n",
       "    .dataframe tbody tr th:only-of-type {\n",
       "        vertical-align: middle;\n",
       "    }\n",
       "\n",
       "    .dataframe tbody tr th {\n",
       "        vertical-align: top;\n",
       "    }\n",
       "\n",
       "    .dataframe thead th {\n",
       "        text-align: right;\n",
       "    }\n",
       "</style>\n",
       "<table border=\"1\" class=\"dataframe\">\n",
       "  <thead>\n",
       "    <tr style=\"text-align: right;\">\n",
       "      <th></th>\n",
       "      <th>nation_kr</th>\n",
       "      <th>detail</th>\n",
       "      <th>listview</th>\n",
       "      <th>nation_eng</th>\n",
       "    </tr>\n",
       "  </thead>\n",
       "  <tbody>\n",
       "    <tr>\n",
       "      <th>0</th>\n",
       "      <td>나우루</td>\n",
       "      <td>▸입국 전 21일 이내 한국, 중국, 홍콩, 마카오, 이탈리아를 방문 후 입국한 외...</td>\n",
       "      <td>False</td>\n",
       "      <td></td>\n",
       "    </tr>\n",
       "    <tr>\n",
       "      <th>1</th>\n",
       "      <td>마셜제도</td>\n",
       "      <td>▸2019.12.31. 이후 한국, 중국, 홍콩, 마카오, 이탈리아, 일본, 이란,...</td>\n",
       "      <td>False</td>\n",
       "      <td></td>\n",
       "    </tr>\n",
       "    <tr>\n",
       "      <th>2</th>\n",
       "      <td>마이크로네시아</td>\n",
       "      <td>▸입국 전 14일 이내 한국 등을 방문 후 입국한 외국인 대상 입국금지(2.24.)</td>\n",
       "      <td>False</td>\n",
       "      <td></td>\n",
       "    </tr>\n",
       "    <tr>\n",
       "      <th>3</th>\n",
       "      <td>말레이시아</td>\n",
       "      <td>▸3.13.부터 한국, 이란, 이탈리아를 방문 후 입국한 외국인 대상 입국.경유 금...</td>\n",
       "      <td>False</td>\n",
       "      <td></td>\n",
       "    </tr>\n",
       "    <tr>\n",
       "      <th>4</th>\n",
       "      <td>몽골</td>\n",
       "      <td>▸2.27.-3.28. 간 입국 전 14일 이내 한국, 중국, 이탈리아, 일본, 이...</td>\n",
       "      <td>False</td>\n",
       "      <td></td>\n",
       "    </tr>\n",
       "    <tr>\n",
       "      <th>5</th>\n",
       "      <td>바누아투</td>\n",
       "      <td>▸입국 전 14일 이내 한국, 중국, 대만, 홍콩, 마카오, 일본, 싱가포르를 방문...</td>\n",
       "      <td>False</td>\n",
       "      <td></td>\n",
       "    </tr>\n",
       "    <tr>\n",
       "      <th>6</th>\n",
       "      <td>부탄</td>\n",
       "      <td>▸3.6.부터 향후 2주간 모든 외국인 대상 입국금지</td>\n",
       "      <td>False</td>\n",
       "      <td></td>\n",
       "    </tr>\n",
       "    <tr>\n",
       "      <th>7</th>\n",
       "      <td>사모아</td>\n",
       "      <td>▸입국 전 14일 이내 한국, 중국, 홍콩, 마카오, 일본, 싱가포르, 태국, 이탈...</td>\n",
       "      <td>False</td>\n",
       "      <td></td>\n",
       "    </tr>\n",
       "    <tr>\n",
       "      <th>8</th>\n",
       "      <td>사모아(미국령)</td>\n",
       "      <td>▸입국 전 14일 이내 코로나19 확진자 발생 국가(한국, 중국, 홍콩, 마카오, ...</td>\n",
       "      <td>False</td>\n",
       "      <td></td>\n",
       "    </tr>\n",
       "    <tr>\n",
       "      <th>9</th>\n",
       "      <td>솔로몬제도</td>\n",
       "      <td>▸입국 전 14일 이내 한국, 중국, 일본, 싱가포르, 이탈리아, 홍콩, 태국, 이...</td>\n",
       "      <td>False</td>\n",
       "      <td></td>\n",
       "    </tr>\n",
       "  </tbody>\n",
       "</table>\n",
       "</div>"
      ],
      "text/plain": [
       "  nation_kr                                             detail  listview  \\\n",
       "0       나우루  ▸입국 전 21일 이내 한국, 중국, 홍콩, 마카오, 이탈리아를 방문 후 입국한 외...     False   \n",
       "1      마셜제도  ▸2019.12.31. 이후 한국, 중국, 홍콩, 마카오, 이탈리아, 일본, 이란,...     False   \n",
       "2   마이크로네시아     ▸입국 전 14일 이내 한국 등을 방문 후 입국한 외국인 대상 입국금지(2.24.)     False   \n",
       "3     말레이시아  ▸3.13.부터 한국, 이란, 이탈리아를 방문 후 입국한 외국인 대상 입국.경유 금...     False   \n",
       "4        몽골  ▸2.27.-3.28. 간 입국 전 14일 이내 한국, 중국, 이탈리아, 일본, 이...     False   \n",
       "5      바누아투  ▸입국 전 14일 이내 한국, 중국, 대만, 홍콩, 마카오, 일본, 싱가포르를 방문...     False   \n",
       "6        부탄                      ▸3.6.부터 향후 2주간 모든 외국인 대상 입국금지     False   \n",
       "7       사모아  ▸입국 전 14일 이내 한국, 중국, 홍콩, 마카오, 일본, 싱가포르, 태국, 이탈...     False   \n",
       "8  사모아(미국령)  ▸입국 전 14일 이내 코로나19 확진자 발생 국가(한국, 중국, 홍콩, 마카오, ...     False   \n",
       "9     솔로몬제도  ▸입국 전 14일 이내 한국, 중국, 일본, 싱가포르, 이탈리아, 홍콩, 태국, 이...     False   \n",
       "\n",
       "  nation_eng  \n",
       "0             \n",
       "1             \n",
       "2             \n",
       "3             \n",
       "4             \n",
       "5             \n",
       "6             \n",
       "7             \n",
       "8             \n",
       "9             "
      ]
     },
     "execution_count": 456,
     "metadata": {},
     "output_type": "execute_result"
    }
   ],
   "source": [
    "df2['listview'] = False\n",
    "df2['nation_eng'] = \"\"\n",
    "df2"
   ]
  },
  {
   "cell_type": "code",
   "execution_count": null,
   "metadata": {},
   "outputs": [],
   "source": []
  }
 ],
 "metadata": {
  "kernelspec": {
   "display_name": "Python 3",
   "language": "python",
   "name": "python3"
  },
  "language_info": {
   "codemirror_mode": {
    "name": "ipython",
    "version": 3
   },
   "file_extension": ".py",
   "mimetype": "text/x-python",
   "name": "python",
   "nbconvert_exporter": "python",
   "pygments_lexer": "ipython3",
   "version": "3.6.8"
  }
 },
 "nbformat": 4,
 "nbformat_minor": 2
}
