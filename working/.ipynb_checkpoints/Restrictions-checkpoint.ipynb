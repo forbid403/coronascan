{
 "cells": [
  {
   "cell_type": "code",
   "execution_count": 60,
   "metadata": {},
   "outputs": [
    {
     "data": {
      "text/plain": [
       "<module 'module' from '/Users/shbae/Downloads/coronascan_py/working/module.py'>"
      ]
     },
     "execution_count": 60,
     "metadata": {},
     "output_type": "execute_result"
    }
   ],
   "source": [
    "import pandas as pd\n",
    "import module\n",
    "from importlib import reload\n",
    "reload(module)"
   ]
  },
  {
   "cell_type": "code",
   "execution_count": 61,
   "metadata": {},
   "outputs": [],
   "source": [
    "#### 입국 금지 : prohibitions #####\n",
    "\n",
    "#load sheets\n",
    "sheets = module.load_excel().worksheets[:2]\n",
    "\n",
    "#create dataframe\n",
    "prohibitions = pd.DataFrame()\n",
    "\n",
    "#add data and delete garbage\n",
    "data, prohibitions = module.del_garbages(module.add_data(sheets), prohibitions)\n",
    "\n",
    "#add restrictions state : 0\n",
    "prohibitions['state'] = 0\n",
    "prohibitions['tooltip'] = \"입국 금지\"\n",
    "\n",
    "#add english nationalities\n",
    "prohibitions = module.add_nation_eng(prohibitions)\n",
    "\n",
    "#print dataframe\n",
    "#prohibitions.head(20)"
   ]
  },
  {
   "cell_type": "code",
   "execution_count": 62,
   "metadata": {},
   "outputs": [],
   "source": [
    "#### 입국 제한 #####\n",
    "\n",
    "#load sheets\n",
    "sheets = module.load_excel().worksheets[2:]\n",
    "\n",
    "#create dataframe\n",
    "restrictions = pd.DataFrame()\n",
    "\n",
    "#add data and delete garbage\n",
    "data, restrictions = module.del_garbages(module.add_data(sheets), restrictions)\n",
    "\n",
    "#add restrictions state : 0\n",
    "restrictions['state'] = 1\n",
    "restrictions['tooltip'] = \"입국 제한\"\n",
    "\n",
    "#add english nationalities\n",
    "restrictions = module.add_nation_eng(restrictions)\n",
    "\n",
    "#print dataframe\n",
    "#restrictions.tail(30)"
   ]
  },
  {
   "cell_type": "code",
   "execution_count": 9,
   "metadata": {},
   "outputs": [],
   "source": [
    "result = pd.concat([restrictions,prohibitions], axis=0)\n",
    "result = result.reset_index(drop = True)\n",
    "#result.tail(20)"
   ]
  },
  {
   "cell_type": "code",
   "execution_count": 39,
   "metadata": {},
   "outputs": [],
   "source": [
    "result.to_csv(\"output.csv\")"
   ]
  },
  {
   "cell_type": "code",
   "execution_count": null,
   "metadata": {},
   "outputs": [],
   "source": []
  }
 ],
 "metadata": {
  "kernelspec": {
   "display_name": "Python 3",
   "language": "python",
   "name": "python3"
  },
  "language_info": {
   "codemirror_mode": {
    "name": "ipython",
    "version": 3
   },
   "file_extension": ".py",
   "mimetype": "text/x-python",
   "name": "python",
   "nbconvert_exporter": "python",
   "pygments_lexer": "ipython3",
   "version": "3.6.8"
  }
 },
 "nbformat": 4,
 "nbformat_minor": 2
}
