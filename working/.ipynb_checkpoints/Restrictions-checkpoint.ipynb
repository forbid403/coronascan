{
 "cells": [
  {
   "cell_type": "code",
   "execution_count": 117,
   "metadata": {},
   "outputs": [
    {
     "data": {
      "text/plain": [
       "<module 'module' from '/Users/shbae/Downloads/coronascan_py/working/module.py'>"
      ]
     },
     "execution_count": 117,
     "metadata": {},
     "output_type": "execute_result"
    }
   ],
   "source": [
    "import pandas as pd\n",
    "import module\n",
    "from importlib import reload\n",
    "reload(module)"
   ]
  },
  {
   "cell_type": "code",
   "execution_count": 118,
   "metadata": {},
   "outputs": [
    {
     "data": {
      "text/plain": [
       "'2020.3.21.(토),  18:00  외교부(재외국민안전과)'"
      ]
     },
     "execution_count": 118,
     "metadata": {},
     "output_type": "execute_result"
    }
   ],
   "source": [
    "#외교부 출처\n",
    "sheet = module.load_excel().worksheets[0]\n",
    "data = []\n",
    "for row in sheet:\n",
    "    data.append(row[0].value)\n",
    "data[1]"
   ]
  },
  {
   "cell_type": "code",
   "execution_count": 119,
   "metadata": {},
   "outputs": [],
   "source": [
    "#### 입국 금지 : prohibitions #####\n",
    "\n",
    "#load sheets\n",
    "sheets = module.load_excel().worksheets[:2]\n",
    "\n",
    "#create dataframe\n",
    "prohibitions = pd.DataFrame()\n",
    "\n",
    "#add data and delete garbage\n",
    "data, prohibitions = module.del_garbages(module.add_data(sheets), prohibitions)\n",
    "\n",
    "#add restrictions state : 0\n",
    "prohibitions['state'] = 0\n",
    "prohibitions['tooltip'] = \"입국 금지\"\n",
    "\n",
    "#add english nationalities\n",
    "prohibitions = module.add_nation_eng(prohibitions)\n",
    "\n",
    "#print dataframe\n",
    "#prohibitions"
   ]
  },
  {
   "cell_type": "code",
   "execution_count": 120,
   "metadata": {},
   "outputs": [
    {
     "ename": "TypeError",
     "evalue": "add_data() takes 1 positional argument but 2 were given",
     "output_type": "error",
     "traceback": [
      "\u001b[0;31m---------------------------------------------------------------------------\u001b[0m",
      "\u001b[0;31mTypeError\u001b[0m                                 Traceback (most recent call last)",
      "\u001b[0;32m<ipython-input-120-5dbf733e752e>\u001b[0m in \u001b[0;36m<module>\u001b[0;34m\u001b[0m\n\u001b[1;32m      8\u001b[0m \u001b[0;34m\u001b[0m\u001b[0m\n\u001b[1;32m      9\u001b[0m \u001b[0;31m#add data and delete garbage\u001b[0m\u001b[0;34m\u001b[0m\u001b[0;34m\u001b[0m\u001b[0;34m\u001b[0m\u001b[0m\n\u001b[0;32m---> 10\u001b[0;31m \u001b[0mdata\u001b[0m\u001b[0;34m,\u001b[0m \u001b[0mrestrictions\u001b[0m \u001b[0;34m=\u001b[0m \u001b[0mmodule\u001b[0m\u001b[0;34m.\u001b[0m\u001b[0mdel_garbages\u001b[0m\u001b[0;34m(\u001b[0m\u001b[0mmodule\u001b[0m\u001b[0;34m.\u001b[0m\u001b[0madd_data\u001b[0m\u001b[0;34m(\u001b[0m\u001b[0msheets\u001b[0m\u001b[0;34m,\u001b[0m \u001b[0;36m1\u001b[0m\u001b[0;34m)\u001b[0m\u001b[0;34m,\u001b[0m \u001b[0mrestrictions\u001b[0m\u001b[0;34m)\u001b[0m\u001b[0;34m\u001b[0m\u001b[0;34m\u001b[0m\u001b[0m\n\u001b[0m\u001b[1;32m     11\u001b[0m \u001b[0;34m\u001b[0m\u001b[0m\n\u001b[1;32m     12\u001b[0m \u001b[0;31m#add restrictions state : 0\u001b[0m\u001b[0;34m\u001b[0m\u001b[0;34m\u001b[0m\u001b[0;34m\u001b[0m\u001b[0m\n",
      "\u001b[0;31mTypeError\u001b[0m: add_data() takes 1 positional argument but 2 were given"
     ]
    }
   ],
   "source": [
    "#### 입국 제한 #####\n",
    "\n",
    "#load sheets\n",
    "sheets = module.load_excel().worksheets[2:]\n",
    "\n",
    "#create dataframe\n",
    "restrictions = pd.DataFrame()\n",
    "\n",
    "#add data and delete garbage\n",
    "data, restrictions = module.del_garbages(module.add_data(sheets), restrictions)\n",
    "\n",
    "#add restrictions state : 0\n",
    "restrictions['state'] = 1\n",
    "restrictions['tooltip'] = \"입국 제한\"\n",
    "\n",
    "#add english nationalities\n",
    "restrictions = module.add_nation_eng(restrictions)\n",
    "\n",
    "#print dataframe\n",
    "#restrictions.tail(30)"
   ]
  },
  {
   "cell_type": "code",
   "execution_count": null,
   "metadata": {},
   "outputs": [],
   "source": [
    "result = pd.concat([restrictions,prohibitions], axis=0)\n",
    "result = result.reset_index(drop = True)\n",
    "result"
   ]
  },
  {
   "cell_type": "code",
   "execution_count": 39,
   "metadata": {},
   "outputs": [],
   "source": [
    "result.to_csv(\"output.csv\")"
   ]
  },
  {
   "cell_type": "code",
   "execution_count": null,
   "metadata": {},
   "outputs": [],
   "source": []
  }
 ],
 "metadata": {
  "kernelspec": {
   "display_name": "Python 3",
   "language": "python",
   "name": "python3"
  },
  "language_info": {
   "codemirror_mode": {
    "name": "ipython",
    "version": 3
   },
   "file_extension": ".py",
   "mimetype": "text/x-python",
   "name": "python",
   "nbconvert_exporter": "python",
   "pygments_lexer": "ipython3",
   "version": "3.6.8"
  }
 },
 "nbformat": 4,
 "nbformat_minor": 2
}
